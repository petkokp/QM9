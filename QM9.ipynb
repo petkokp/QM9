{
 "cells": [
  {
   "cell_type": "code",
   "execution_count": 7,
   "metadata": {},
   "outputs": [],
   "source": [
    "import pandas as pd\n",
    "import os\n",
    "import opendatasets as od\n",
    "from tqdm import tqdm\n",
    "from pathlib import Path\n",
    "import shutil\n",
    "import random\n",
    "from coulumb_utils.xyz import read_xyz, parse_xyz_file, create_dataframe_from_xyz\n",
    "from coulumb_utils.calculate_coulumb_matrix import calculate_coulomb_matrix\n",
    "from coulumb_utils.sort_molecules import sort_by_atomic_number, sort_by_row_norm\n",
    "from coulumb_utils.normalize import normalize_min_max, log_normalize\n",
    "from coulumb_utils.eigen_padd import compute_eigenvalues, padd_eig, padd_matrix\n",
    "from coulumb_utils.standardize import standardize_matrix\n",
    "import xgboost as xgb\n",
    "from sklearn.model_selection import train_test_split\n",
    "from sklearn.metrics import mean_squared_error, r2_score\n",
    "from matplotlib.ticker import MaxNLocator,ScalarFormatter\n",
    "import seaborn as sns\n",
    "import matplotlib.pyplot as plt\n",
    "import torch.nn as nn\n",
    "import torch\n",
    "import numpy as np\n",
    "from torch.utils.data import DataLoader\n",
    "from torch.utils.data import random_split\n",
    "from sklearn.linear_model import Ridge\n",
    "from xgboost import plot_importance"
   ]
  },
  {
   "cell_type": "markdown",
   "metadata": {},
   "source": [
    "# Download dataset\n",
    "\n",
    "The dataset is on Kaggle - https://www.kaggle.com/datasets/mariovozza5/qm9-molecules"
   ]
  },
  {
   "cell_type": "code",
   "execution_count": 10,
   "metadata": {},
   "outputs": [
    {
     "name": "stdout",
     "output_type": "stream",
     "text": [
      "Dataset URL: https://www.kaggle.com/datasets/mariovozza5/qm9-molecules\n",
      "Downloading qm9-molecules.zip to ./qm9-molecules\n"
     ]
    },
    {
     "name": "stderr",
     "output_type": "stream",
     "text": [
      "100%|██████████| 130M/130M [00:17<00:00, 7.87MB/s] \n"
     ]
    },
    {
     "name": "stdout",
     "output_type": "stream",
     "text": [
      "\n"
     ]
    }
   ],
   "source": [
    "\n",
    "dataset = \"https://www.kaggle.com/datasets/mariovozza5/qm9-molecules\"\n",
    "\n",
    "if not os.path.exists(\"qm9-molecules\"): od.download(dataset)"
   ]
  },
  {
   "cell_type": "code",
   "execution_count": null,
   "metadata": {},
   "outputs": [],
   "source": [
    "work_path = Path(\"./qm9-molecules/\")\n",
    "data_path = work_path.joinpath(\"data\")\n",
    "\n",
    "subset_size = 1000"
   ]
  }
 ],
 "metadata": {
  "kernelspec": {
   "display_name": "env",
   "language": "python",
   "name": "python3"
  },
  "language_info": {
   "codemirror_mode": {
    "name": "ipython",
    "version": 3
   },
   "file_extension": ".py",
   "mimetype": "text/x-python",
   "name": "python",
   "nbconvert_exporter": "python",
   "pygments_lexer": "ipython3",
   "version": "3.12.3"
  }
 },
 "nbformat": 4,
 "nbformat_minor": 2
}
